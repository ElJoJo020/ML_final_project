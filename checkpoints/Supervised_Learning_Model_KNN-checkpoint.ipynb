{
 "cells": [
  {
   "cell_type": "code",
   "execution_count": 1,
   "id": "e70b43b9",
   "metadata": {},
   "outputs": [],
   "source": [
    "import pandas as pd\n",
    "from sklearn.model_selection import train_test_split\n",
    "from sklearn.neighbors import KNeighborsClassifier\n",
    "from sklearn.metrics import accuracy_score\n"
   ]
  },
  {
   "cell_type": "code",
   "execution_count": 2,
   "id": "fd89c7ac",
   "metadata": {},
   "outputs": [
    {
     "data": {
      "text/html": [
       "<div>\n",
       "<style scoped>\n",
       "    .dataframe tbody tr th:only-of-type {\n",
       "        vertical-align: middle;\n",
       "    }\n",
       "\n",
       "    .dataframe tbody tr th {\n",
       "        vertical-align: top;\n",
       "    }\n",
       "\n",
       "    .dataframe thead th {\n",
       "        text-align: right;\n",
       "    }\n",
       "</style>\n",
       "<table border=\"1\" class=\"dataframe\">\n",
       "  <thead>\n",
       "    <tr style=\"text-align: right;\">\n",
       "      <th></th>\n",
       "      <th>Fx</th>\n",
       "      <th>Fy</th>\n",
       "      <th>Fz</th>\n",
       "      <th>Tx</th>\n",
       "      <th>Ty</th>\n",
       "      <th>Tz</th>\n",
       "      <th>Label</th>\n",
       "    </tr>\n",
       "  </thead>\n",
       "  <tbody>\n",
       "    <tr>\n",
       "      <th>0</th>\n",
       "      <td>-0.016975</td>\n",
       "      <td>-0.463345</td>\n",
       "      <td>0.872126</td>\n",
       "      <td>-0.537448</td>\n",
       "      <td>0.207446</td>\n",
       "      <td>-0.549353</td>\n",
       "      <td>4</td>\n",
       "    </tr>\n",
       "    <tr>\n",
       "      <th>1</th>\n",
       "      <td>0.314809</td>\n",
       "      <td>-0.294127</td>\n",
       "      <td>0.737338</td>\n",
       "      <td>-0.453652</td>\n",
       "      <td>-0.005034</td>\n",
       "      <td>-0.815265</td>\n",
       "      <td>4</td>\n",
       "    </tr>\n",
       "    <tr>\n",
       "      <th>2</th>\n",
       "      <td>0.058273</td>\n",
       "      <td>0.016851</td>\n",
       "      <td>0.661483</td>\n",
       "      <td>-0.105819</td>\n",
       "      <td>0.191171</td>\n",
       "      <td>-0.835205</td>\n",
       "      <td>4</td>\n",
       "    </tr>\n",
       "    <tr>\n",
       "      <th>3</th>\n",
       "      <td>0.088896</td>\n",
       "      <td>0.012607</td>\n",
       "      <td>0.417659</td>\n",
       "      <td>-0.082346</td>\n",
       "      <td>0.127138</td>\n",
       "      <td>-0.270457</td>\n",
       "      <td>4</td>\n",
       "    </tr>\n",
       "    <tr>\n",
       "      <th>4</th>\n",
       "      <td>0.221730</td>\n",
       "      <td>0.193170</td>\n",
       "      <td>-0.109637</td>\n",
       "      <td>0.138745</td>\n",
       "      <td>-0.018588</td>\n",
       "      <td>-0.468702</td>\n",
       "      <td>4</td>\n",
       "    </tr>\n",
       "  </tbody>\n",
       "</table>\n",
       "</div>"
      ],
      "text/plain": [
       "         Fx        Fy        Fz        Tx        Ty        Tz  Label\n",
       "0 -0.016975 -0.463345  0.872126 -0.537448  0.207446 -0.549353      4\n",
       "1  0.314809 -0.294127  0.737338 -0.453652 -0.005034 -0.815265      4\n",
       "2  0.058273  0.016851  0.661483 -0.105819  0.191171 -0.835205      4\n",
       "3  0.088896  0.012607  0.417659 -0.082346  0.127138 -0.270457      4\n",
       "4  0.221730  0.193170 -0.109637  0.138745 -0.018588 -0.468702      4"
      ]
     },
     "execution_count": 2,
     "metadata": {},
     "output_type": "execute_result"
    }
   ],
   "source": [
    "data = pd.read_csv('/mnt/data/final_combined_soil_dataset_with_composite_labels.csv')\n",
    "data.head()"
   ]
  },
  {
   "cell_type": "code",
   "execution_count": 3,
   "id": "fa2b7ba0",
   "metadata": {},
   "outputs": [
    {
     "name": "stdout",
     "output_type": "stream",
     "text": [
      "Accuracy: 0.8884130526569757\n"
     ]
    }
   ],
   "source": [
    "\n",
    "# Splitting the dataset into features and target variable\n",
    "X = data.drop('Composite_Label', axis=1)\n",
    "y = data['Composite_Label']\n",
    "\n",
    "# Converting categorical columns to numerical using one-hot encoding\n",
    "X = pd.get_dummies(X)\n",
    "\n",
    "# Splitting the dataset into a training set and a test set (80-20 split)\n",
    "X_train, X_test, y_train, y_test = train_test_split(X, y, test_size=0.2, random_state=42)\n",
    "\n",
    "# Creating and training the KNN model with k=5\n",
    "knn_model = KNeighborsClassifier(n_neighbors=5)\n",
    "knn_model.fit(X_train, y_train)\n",
    "\n",
    "# Predicting and evaluating the model\n",
    "y_pred = knn_model.predict(X_test)\n",
    "accuracy = accuracy_score(y_test, y_pred)\n",
    "print('Accuracy:', accuracy)\n"
   ]
  },
  {
   "cell_type": "code",
   "execution_count": null,
   "id": "91390d68",
   "metadata": {},
   "outputs": [],
   "source": []
  }
 ],
 "metadata": {
  "kernelspec": {
   "display_name": "Python 3 (ipykernel)",
   "language": "python",
   "name": "python3"
  },
  "language_info": {
   "codemirror_mode": {
    "name": "ipython",
    "version": 3
   },
   "file_extension": ".py",
   "mimetype": "text/x-python",
   "name": "python",
   "nbconvert_exporter": "python",
   "pygments_lexer": "ipython3",
   "version": "3.10.10"
  }
 },
 "nbformat": 4,
 "nbformat_minor": 5
}
